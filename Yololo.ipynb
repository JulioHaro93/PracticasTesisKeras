{
  "cells": [
    {
      "cell_type": "code",
      "execution_count": 4,
      "metadata": {
        "colab": {
          "base_uri": "https://localhost:8080/"
        },
        "collapsed": true,
        "id": "dbPDBg2ktI3W",
        "outputId": "294cc734-8de6-49c1-f4b1-768e908f5ab0"
      },
      "outputs": [
        {
          "name": "stdout",
          "output_type": "stream",
          "text": [
            "Requirement already satisfied: ultralytics in /home/julio/anaconda3/envs/limpio39/lib/python3.9/site-packages (8.3.148)\n",
            "Requirement already satisfied: numpy>=1.23.0 in /home/julio/anaconda3/envs/limpio39/lib/python3.9/site-packages (from ultralytics) (1.23.0)\n",
            "Requirement already satisfied: matplotlib>=3.3.0 in /home/julio/anaconda3/envs/limpio39/lib/python3.9/site-packages (from ultralytics) (3.9.4)\n",
            "Requirement already satisfied: opencv-python>=4.6.0 in /home/julio/anaconda3/envs/limpio39/lib/python3.9/site-packages (from ultralytics) (4.11.0.86)\n",
            "Requirement already satisfied: pillow>=7.1.2 in /home/julio/anaconda3/envs/limpio39/lib/python3.9/site-packages (from ultralytics) (11.2.1)\n",
            "Requirement already satisfied: pyyaml>=5.3.1 in /home/julio/anaconda3/envs/limpio39/lib/python3.9/site-packages (from ultralytics) (6.0.2)\n",
            "Requirement already satisfied: requests>=2.23.0 in /home/julio/anaconda3/envs/limpio39/lib/python3.9/site-packages (from ultralytics) (2.32.3)\n",
            "Requirement already satisfied: scipy>=1.4.1 in /home/julio/anaconda3/envs/limpio39/lib/python3.9/site-packages (from ultralytics) (1.13.1)\n",
            "Requirement already satisfied: torch>=1.8.0 in /home/julio/anaconda3/envs/limpio39/lib/python3.9/site-packages (from ultralytics) (2.7.0)\n",
            "Requirement already satisfied: torchvision>=0.9.0 in /home/julio/anaconda3/envs/limpio39/lib/python3.9/site-packages (from ultralytics) (0.22.0)\n",
            "Requirement already satisfied: tqdm>=4.64.0 in /home/julio/anaconda3/envs/limpio39/lib/python3.9/site-packages (from ultralytics) (4.67.1)\n",
            "Requirement already satisfied: psutil in /home/julio/anaconda3/envs/limpio39/lib/python3.9/site-packages (from ultralytics) (7.0.0)\n",
            "Requirement already satisfied: py-cpuinfo in /home/julio/anaconda3/envs/limpio39/lib/python3.9/site-packages (from ultralytics) (9.0.0)\n",
            "Requirement already satisfied: pandas>=1.1.4 in /home/julio/anaconda3/envs/limpio39/lib/python3.9/site-packages (from ultralytics) (2.2.3)\n",
            "Requirement already satisfied: ultralytics-thop>=2.0.0 in /home/julio/anaconda3/envs/limpio39/lib/python3.9/site-packages (from ultralytics) (2.0.14)\n",
            "Requirement already satisfied: contourpy>=1.0.1 in /home/julio/anaconda3/envs/limpio39/lib/python3.9/site-packages (from matplotlib>=3.3.0->ultralytics) (1.3.0)\n",
            "Requirement already satisfied: cycler>=0.10 in /home/julio/anaconda3/envs/limpio39/lib/python3.9/site-packages (from matplotlib>=3.3.0->ultralytics) (0.12.1)\n",
            "Requirement already satisfied: fonttools>=4.22.0 in /home/julio/anaconda3/envs/limpio39/lib/python3.9/site-packages (from matplotlib>=3.3.0->ultralytics) (4.58.0)\n",
            "Requirement already satisfied: kiwisolver>=1.3.1 in /home/julio/anaconda3/envs/limpio39/lib/python3.9/site-packages (from matplotlib>=3.3.0->ultralytics) (1.4.7)\n",
            "Requirement already satisfied: packaging>=20.0 in /home/julio/anaconda3/envs/limpio39/lib/python3.9/site-packages (from matplotlib>=3.3.0->ultralytics) (25.0)\n",
            "Requirement already satisfied: pyparsing>=2.3.1 in /home/julio/anaconda3/envs/limpio39/lib/python3.9/site-packages (from matplotlib>=3.3.0->ultralytics) (3.2.3)\n",
            "Requirement already satisfied: python-dateutil>=2.7 in /home/julio/anaconda3/envs/limpio39/lib/python3.9/site-packages (from matplotlib>=3.3.0->ultralytics) (2.9.0.post0)\n",
            "Requirement already satisfied: importlib-resources>=3.2.0 in /home/julio/anaconda3/envs/limpio39/lib/python3.9/site-packages (from matplotlib>=3.3.0->ultralytics) (6.5.2)\n",
            "Requirement already satisfied: zipp>=3.1.0 in /home/julio/anaconda3/envs/limpio39/lib/python3.9/site-packages (from importlib-resources>=3.2.0->matplotlib>=3.3.0->ultralytics) (3.21.0)\n",
            "Requirement already satisfied: pytz>=2020.1 in /home/julio/anaconda3/envs/limpio39/lib/python3.9/site-packages (from pandas>=1.1.4->ultralytics) (2025.2)\n",
            "Requirement already satisfied: tzdata>=2022.7 in /home/julio/anaconda3/envs/limpio39/lib/python3.9/site-packages (from pandas>=1.1.4->ultralytics) (2025.2)\n",
            "Requirement already satisfied: six>=1.5 in /home/julio/anaconda3/envs/limpio39/lib/python3.9/site-packages (from python-dateutil>=2.7->matplotlib>=3.3.0->ultralytics) (1.17.0)\n",
            "Requirement already satisfied: charset-normalizer<4,>=2 in /home/julio/anaconda3/envs/limpio39/lib/python3.9/site-packages (from requests>=2.23.0->ultralytics) (3.4.2)\n",
            "Requirement already satisfied: idna<4,>=2.5 in /home/julio/anaconda3/envs/limpio39/lib/python3.9/site-packages (from requests>=2.23.0->ultralytics) (3.10)\n",
            "Requirement already satisfied: urllib3<3,>=1.21.1 in /home/julio/anaconda3/envs/limpio39/lib/python3.9/site-packages (from requests>=2.23.0->ultralytics) (2.4.0)\n",
            "Requirement already satisfied: certifi>=2017.4.17 in /home/julio/anaconda3/envs/limpio39/lib/python3.9/site-packages (from requests>=2.23.0->ultralytics) (2025.4.26)\n",
            "Requirement already satisfied: filelock in /home/julio/anaconda3/envs/limpio39/lib/python3.9/site-packages (from torch>=1.8.0->ultralytics) (3.18.0)\n",
            "Requirement already satisfied: typing-extensions>=4.10.0 in /home/julio/anaconda3/envs/limpio39/lib/python3.9/site-packages (from torch>=1.8.0->ultralytics) (4.13.2)\n",
            "Requirement already satisfied: sympy>=1.13.3 in /home/julio/anaconda3/envs/limpio39/lib/python3.9/site-packages (from torch>=1.8.0->ultralytics) (1.14.0)\n",
            "Requirement already satisfied: networkx in /home/julio/anaconda3/envs/limpio39/lib/python3.9/site-packages (from torch>=1.8.0->ultralytics) (3.2.1)\n",
            "Requirement already satisfied: jinja2 in /home/julio/anaconda3/envs/limpio39/lib/python3.9/site-packages (from torch>=1.8.0->ultralytics) (3.1.6)\n",
            "Requirement already satisfied: fsspec in /home/julio/anaconda3/envs/limpio39/lib/python3.9/site-packages (from torch>=1.8.0->ultralytics) (2025.5.1)\n",
            "Requirement already satisfied: nvidia-cuda-nvrtc-cu12==12.6.77 in /home/julio/anaconda3/envs/limpio39/lib/python3.9/site-packages (from torch>=1.8.0->ultralytics) (12.6.77)\n",
            "Requirement already satisfied: nvidia-cuda-runtime-cu12==12.6.77 in /home/julio/anaconda3/envs/limpio39/lib/python3.9/site-packages (from torch>=1.8.0->ultralytics) (12.6.77)\n",
            "Requirement already satisfied: nvidia-cuda-cupti-cu12==12.6.80 in /home/julio/anaconda3/envs/limpio39/lib/python3.9/site-packages (from torch>=1.8.0->ultralytics) (12.6.80)\n",
            "Requirement already satisfied: nvidia-cudnn-cu12==9.5.1.17 in /home/julio/anaconda3/envs/limpio39/lib/python3.9/site-packages (from torch>=1.8.0->ultralytics) (9.5.1.17)\n",
            "Requirement already satisfied: nvidia-cublas-cu12==12.6.4.1 in /home/julio/anaconda3/envs/limpio39/lib/python3.9/site-packages (from torch>=1.8.0->ultralytics) (12.6.4.1)\n",
            "Requirement already satisfied: nvidia-cufft-cu12==11.3.0.4 in /home/julio/anaconda3/envs/limpio39/lib/python3.9/site-packages (from torch>=1.8.0->ultralytics) (11.3.0.4)\n",
            "Requirement already satisfied: nvidia-curand-cu12==10.3.7.77 in /home/julio/anaconda3/envs/limpio39/lib/python3.9/site-packages (from torch>=1.8.0->ultralytics) (10.3.7.77)\n",
            "Requirement already satisfied: nvidia-cusolver-cu12==11.7.1.2 in /home/julio/anaconda3/envs/limpio39/lib/python3.9/site-packages (from torch>=1.8.0->ultralytics) (11.7.1.2)\n",
            "Requirement already satisfied: nvidia-cusparse-cu12==12.5.4.2 in /home/julio/anaconda3/envs/limpio39/lib/python3.9/site-packages (from torch>=1.8.0->ultralytics) (12.5.4.2)\n",
            "Requirement already satisfied: nvidia-cusparselt-cu12==0.6.3 in /home/julio/anaconda3/envs/limpio39/lib/python3.9/site-packages (from torch>=1.8.0->ultralytics) (0.6.3)\n",
            "Requirement already satisfied: nvidia-nccl-cu12==2.26.2 in /home/julio/anaconda3/envs/limpio39/lib/python3.9/site-packages (from torch>=1.8.0->ultralytics) (2.26.2)\n",
            "Requirement already satisfied: nvidia-nvtx-cu12==12.6.77 in /home/julio/anaconda3/envs/limpio39/lib/python3.9/site-packages (from torch>=1.8.0->ultralytics) (12.6.77)\n",
            "Requirement already satisfied: nvidia-nvjitlink-cu12==12.6.85 in /home/julio/anaconda3/envs/limpio39/lib/python3.9/site-packages (from torch>=1.8.0->ultralytics) (12.6.85)\n",
            "Requirement already satisfied: nvidia-cufile-cu12==1.11.1.6 in /home/julio/anaconda3/envs/limpio39/lib/python3.9/site-packages (from torch>=1.8.0->ultralytics) (1.11.1.6)\n",
            "Requirement already satisfied: triton==3.3.0 in /home/julio/anaconda3/envs/limpio39/lib/python3.9/site-packages (from torch>=1.8.0->ultralytics) (3.3.0)\n",
            "Requirement already satisfied: setuptools>=40.8.0 in /home/julio/anaconda3/envs/limpio39/lib/python3.9/site-packages (from triton==3.3.0->torch>=1.8.0->ultralytics) (78.1.1)\n",
            "Requirement already satisfied: mpmath<1.4,>=1.1.0 in /home/julio/anaconda3/envs/limpio39/lib/python3.9/site-packages (from sympy>=1.13.3->torch>=1.8.0->ultralytics) (1.3.0)\n",
            "Requirement already satisfied: MarkupSafe>=2.0 in /home/julio/anaconda3/envs/limpio39/lib/python3.9/site-packages (from jinja2->torch>=1.8.0->ultralytics) (3.0.2)\n",
            "\u001b[31mERROR: Operation cancelled by user\u001b[0m\u001b[31m\n",
            "\u001b[0m^C\n"
          ]
        }
      ],
      "source": [
        "!pip install ultralytics"
      ]
    },
    {
      "cell_type": "code",
      "execution_count": null,
      "metadata": {
        "id": "5WQLhtAQst2C"
      },
      "outputs": [],
      "source": [
        "import tensorflow as tf\n",
        "import matplotlib.pyplot as plt\n",
        "import numpy as np\n",
        "import glob\n",
        "import sklearn as skl\n",
        "from sklearn.model_selection import train_test_split\n",
        "import cv2\n",
        "import os\n",
        "import random\n",
        "%matplotlib inline\n",
        "import glob\n",
        "import numpy as np\n",
        "from tensorflow.keras.preprocessing.image import load_img, img_to_array\n",
        "from sklearn.model_selection import train_test_split\n",
        "from tensorflow.keras.layers import Flatten\n",
        "from tensorflow.keras.models import Sequential"
      ]
    },
    {
      "cell_type": "code",
      "execution_count": null,
      "metadata": {
        "colab": {
          "base_uri": "https://localhost:8080/"
        },
        "id": "ZPDQSILOtb_d",
        "outputId": "ba3c48c9-25e1-4226-b848-7005c1486a6f"
      },
      "outputs": [
        {
          "name": "stdout",
          "output_type": "stream",
          "text": [
            "Drive already mounted at /content/drive; to attempt to forcibly remount, call drive.mount(\"/content/drive\", force_remount=True).\n"
          ]
        }
      ],
      "source": [
        "#from google.colab import drive\n",
        "#drive.mount('/content/drive')"
      ]
    },
    {
      "cell_type": "code",
      "execution_count": null,
      "metadata": {
        "colab": {
          "base_uri": "https://localhost:8080/"
        },
        "id": "VuTYPiKktc_d",
        "outputId": "3983b276-22ed-421e-e11b-ca4f2b667425"
      },
      "outputs": [
        {
          "name": "stdout",
          "output_type": "stream",
          "text": [
            "🔄 Ajustando etiquetas a clase única 'bug'\n",
            "📝 Archivo YAML creado en: /content/drive/MyDrive/BD-Ephemeroptera/data.yaml\n",
            "🚀 Entrenando YOLOv8...\n",
            "Ultralytics 8.3.151 🚀 Python-3.11.13 torch-2.6.0+cu124 CUDA:0 (Tesla T4, 15095MiB)\n",
            "\u001b[34m\u001b[1mengine/trainer: \u001b[0magnostic_nms=False, amp=True, augment=False, auto_augment=randaugment, batch=16, bgr=0.0, box=7.5, cache=False, cfg=None, classes=None, close_mosaic=10, cls=0.5, conf=None, copy_paste=0.0, copy_paste_mode=flip, cos_lr=False, cutmix=0.0, data=/content/drive/MyDrive/BD-Ephemeroptera/data.yaml, degrees=0.0, deterministic=True, device=0, dfl=1.5, dnn=False, dropout=0.0, dynamic=False, embed=None, epochs=150, erasing=0.4, exist_ok=False, fliplr=0.5, flipud=0.0, format=torchscript, fraction=1.0, freeze=None, half=False, hsv_h=0.015, hsv_s=0.7, hsv_v=0.4, imgsz=640, int8=False, iou=0.7, keras=False, kobj=1.0, line_width=None, lr0=0.01, lrf=0.01, mask_ratio=4, max_det=300, mixup=0.0, mode=train, model=yolov8n.pt, momentum=0.937, mosaic=1.0, multi_scale=False, name=train3, nbs=64, nms=False, opset=None, optimize=False, optimizer=auto, overlap_mask=True, patience=100, perspective=0.0, plots=True, pose=12.0, pretrained=True, profile=False, project=None, rect=False, resume=False, retina_masks=False, save=True, save_conf=False, save_crop=False, save_dir=runs/detect/train3, save_frames=False, save_json=False, save_period=-1, save_txt=False, scale=0.5, seed=0, shear=0.0, show=False, show_boxes=True, show_conf=True, show_labels=True, simplify=True, single_cls=False, source=None, split=val, stream_buffer=False, task=detect, time=None, tracker=botsort.yaml, translate=0.1, val=True, verbose=True, vid_stride=1, visualize=False, warmup_bias_lr=0.1, warmup_epochs=3.0, warmup_momentum=0.8, weight_decay=0.0005, workers=8, workspace=None\n",
            "Overriding model.yaml nc=80 with nc=1\n",
            "\n",
            "                   from  n    params  module                                       arguments                     \n",
            "  0                  -1  1       464  ultralytics.nn.modules.conv.Conv             [3, 16, 3, 2]                 \n",
            "  1                  -1  1      4672  ultralytics.nn.modules.conv.Conv             [16, 32, 3, 2]                \n",
            "  2                  -1  1      7360  ultralytics.nn.modules.block.C2f             [32, 32, 1, True]             \n",
            "  3                  -1  1     18560  ultralytics.nn.modules.conv.Conv             [32, 64, 3, 2]                \n",
            "  4                  -1  2     49664  ultralytics.nn.modules.block.C2f             [64, 64, 2, True]             \n",
            "  5                  -1  1     73984  ultralytics.nn.modules.conv.Conv             [64, 128, 3, 2]               \n",
            "  6                  -1  2    197632  ultralytics.nn.modules.block.C2f             [128, 128, 2, True]           \n",
            "  7                  -1  1    295424  ultralytics.nn.modules.conv.Conv             [128, 256, 3, 2]              \n",
            "  8                  -1  1    460288  ultralytics.nn.modules.block.C2f             [256, 256, 1, True]           \n",
            "  9                  -1  1    164608  ultralytics.nn.modules.block.SPPF            [256, 256, 5]                 \n",
            " 10                  -1  1         0  torch.nn.modules.upsampling.Upsample         [None, 2, 'nearest']          \n",
            " 11             [-1, 6]  1         0  ultralytics.nn.modules.conv.Concat           [1]                           \n",
            " 12                  -1  1    148224  ultralytics.nn.modules.block.C2f             [384, 128, 1]                 \n",
            " 13                  -1  1         0  torch.nn.modules.upsampling.Upsample         [None, 2, 'nearest']          \n",
            " 14             [-1, 4]  1         0  ultralytics.nn.modules.conv.Concat           [1]                           \n",
            " 15                  -1  1     37248  ultralytics.nn.modules.block.C2f             [192, 64, 1]                  \n",
            " 16                  -1  1     36992  ultralytics.nn.modules.conv.Conv             [64, 64, 3, 2]                \n",
            " 17            [-1, 12]  1         0  ultralytics.nn.modules.conv.Concat           [1]                           \n",
            " 18                  -1  1    123648  ultralytics.nn.modules.block.C2f             [192, 128, 1]                 \n",
            " 19                  -1  1    147712  ultralytics.nn.modules.conv.Conv             [128, 128, 3, 2]              \n",
            " 20             [-1, 9]  1         0  ultralytics.nn.modules.conv.Concat           [1]                           \n",
            " 21                  -1  1    493056  ultralytics.nn.modules.block.C2f             [384, 256, 1]                 \n",
            " 22        [15, 18, 21]  1    751507  ultralytics.nn.modules.head.Detect           [1, [64, 128, 256]]           \n",
            "Model summary: 129 layers, 3,011,043 parameters, 3,011,027 gradients, 8.2 GFLOPs\n",
            "\n",
            "Transferred 319/355 items from pretrained weights\n",
            "Freezing layer 'model.22.dfl.conv.weight'\n",
            "\u001b[34m\u001b[1mAMP: \u001b[0mrunning Automatic Mixed Precision (AMP) checks...\n",
            "\u001b[34m\u001b[1mAMP: \u001b[0mchecks passed ✅\n",
            "\u001b[34m\u001b[1mtrain: \u001b[0mFast image access ✅ (ping: 0.3±0.1 ms, read: 38.0±30.4 MB/s, size: 377.4 KB)\n"
          ]
        },
        {
          "name": "stderr",
          "output_type": "stream",
          "text": [
            "\u001b[34m\u001b[1mtrain: \u001b[0mScanning /content/drive/MyDrive/BD-Ephemeroptera/YOLOLO/labels/train.cache... 128 images, 14 backgrounds, 0 corrupt: 100%|██████████| 128/128 [00:00<?, ?it/s]"
          ]
        },
        {
          "name": "stdout",
          "output_type": "stream",
          "text": [
            "\u001b[34m\u001b[1mtrain: \u001b[0m/content/drive/MyDrive/BD-Ephemeroptera/YOLOLO/images/train/frame_oscar_00000.jpg: corrupt JPEG restored and saved\n",
            "\u001b[34m\u001b[1malbumentations: \u001b[0mBlur(p=0.01, blur_limit=(3, 7)), MedianBlur(p=0.01, blur_limit=(3, 7)), ToGray(p=0.01, method='weighted_average', num_output_channels=3), CLAHE(p=0.01, clip_limit=(1.0, 4.0), tile_grid_size=(8, 8))\n"
          ]
        },
        {
          "name": "stderr",
          "output_type": "stream",
          "text": [
            "\n"
          ]
        },
        {
          "name": "stdout",
          "output_type": "stream",
          "text": [
            "\u001b[34m\u001b[1mval: \u001b[0mFast image access ✅ (ping: 1.0±1.0 ms, read: 62.4±26.6 MB/s, size: 1212.8 KB)\n"
          ]
        },
        {
          "name": "stderr",
          "output_type": "stream",
          "text": [
            "\u001b[34m\u001b[1mval: \u001b[0mScanning /content/drive/MyDrive/BD-Ephemeroptera/YOLOLO/labels/val.cache... 33 images, 6 backgrounds, 0 corrupt: 100%|██████████| 33/33 [00:00<?, ?it/s]"
          ]
        },
        {
          "name": "stdout",
          "output_type": "stream",
          "text": [
            "\u001b[34m\u001b[1mval: \u001b[0m/content/drive/MyDrive/BD-Ephemeroptera/YOLOLO/images/val/frame_oscar_00001.jpg: corrupt JPEG restored and saved\n",
            "\u001b[34m\u001b[1mval: \u001b[0m/content/drive/MyDrive/BD-Ephemeroptera/YOLOLO/images/val/frame_oscar_00002.jpg: corrupt JPEG restored and saved\n"
          ]
        },
        {
          "name": "stderr",
          "output_type": "stream",
          "text": [
            "\n"
          ]
        },
        {
          "name": "stdout",
          "output_type": "stream",
          "text": [
            "Plotting labels to runs/detect/train3/labels.jpg... \n",
            "\u001b[34m\u001b[1moptimizer:\u001b[0m 'optimizer=auto' found, ignoring 'lr0=0.01' and 'momentum=0.937' and determining best 'optimizer', 'lr0' and 'momentum' automatically... \n",
            "\u001b[34m\u001b[1moptimizer:\u001b[0m AdamW(lr=0.002, momentum=0.9) with parameter groups 57 weight(decay=0.0), 64 weight(decay=0.0005), 63 bias(decay=0.0)\n",
            "Image sizes 640 train, 640 val\n",
            "Using 2 dataloader workers\n",
            "Logging results to \u001b[1mruns/detect/train3\u001b[0m\n",
            "Starting training for 150 epochs...\n",
            "\n",
            "      Epoch    GPU_mem   box_loss   cls_loss   dfl_loss  Instances       Size\n"
          ]
        },
        {
          "name": "stderr",
          "output_type": "stream",
          "text": [
            "      1/150         2G      1.488      3.083      1.356         93        640: 100%|██████████| 8/8 [00:15<00:00,  1.89s/it]\n",
            "                 Class     Images  Instances      Box(P          R      mAP50  mAP50-95): 100%|██████████| 2/2 [00:01<00:00,  1.89it/s]\n"
          ]
        },
        {
          "name": "stdout",
          "output_type": "stream",
          "text": [
            "                   all         33        128     0.0113      0.875      0.462      0.276\n",
            "\n",
            "      Epoch    GPU_mem   box_loss   cls_loss   dfl_loss  Instances       Size\n"
          ]
        },
        {
          "name": "stderr",
          "output_type": "stream",
          "text": [
            "      2/150      2.01G      1.377      2.077      1.195         63        640: 100%|██████████| 8/8 [00:04<00:00,  1.99it/s]\n",
            "                 Class     Images  Instances      Box(P          R      mAP50  mAP50-95): 100%|██████████| 2/2 [00:00<00:00,  3.18it/s]\n"
          ]
        },
        {
          "name": "stdout",
          "output_type": "stream",
          "text": [
            "                   all         33        128     0.0119      0.922      0.435      0.248\n",
            "\n",
            "      Epoch    GPU_mem   box_loss   cls_loss   dfl_loss  Instances       Size\n"
          ]
        },
        {
          "name": "stderr",
          "output_type": "stream",
          "text": [
            "      3/150      2.02G      1.332      1.644      1.202         64        640: 100%|██████████| 8/8 [00:05<00:00,  1.47it/s]\n",
            "                 Class     Images  Instances      Box(P          R      mAP50  mAP50-95): 100%|██████████| 2/2 [00:04<00:00,  2.07s/it]"
          ]
        },
        {
          "name": "stdout",
          "output_type": "stream",
          "text": [
            "                   all         33        128      0.012       0.93      0.559      0.317\n"
          ]
        },
        {
          "name": "stderr",
          "output_type": "stream",
          "text": [
            "\n"
          ]
        }
      ],
      "source": [
        "from pathlib import Path\n",
        "from ultralytics import YOLO\n",
        "import matplotlib.pyplot as plt\n",
        "import pandas as pd\n",
        "import seaborn as sns\n",
        "from sklearn.metrics import confusion_matrix, ConfusionMatrixDisplay, accuracy_score, balanced_accuracy_score\n",
        "import numpy as np\n",
        "\n",
        "nombre_modelo = \"yolov8n.pt\"\n",
        "epocas = 200\n",
        "imgsz = 640\n",
        "ruta_dataset = Path(r\"/home/julio/Documentos/TEST_TESIS/PracticasTesisKeras/CNN-VAE_Curso/yololo\")\n",
        "yaml_path = ruta_dataset.parent / \"data.yaml\"\n",
        "\n",
        "\n",
        "print(\"Ajustando etiquetas a clase única 'bug'\")\n",
        "for subdir in ['train', 'val']:\n",
        "    for file in (ruta_dataset / 'labels' / subdir).rglob(\"*.txt\"):\n",
        "        lines = file.read_text().splitlines()\n",
        "        new_lines = ['0 ' + ' '.join(line.split()[1:]) for line in lines if line.strip()]\n",
        "        file.write_text('\\n'.join(new_lines))\n",
        "\n",
        "yaml_path.write_text(f\"\"\"path: {ruta_dataset.as_posix()}\n",
        "train: images/train\n",
        "val: images/val\n",
        "\n",
        "nc: 1\n",
        "names:\n",
        "  0: bug\n",
        "\"\"\")\n",
        "print(f\"Archivo YAML creado en: {yaml_path}\")\n",
        "\n",
        "\n",
        "print(\"Entrenando YOLOv8...\")\n",
        "model = YOLO(nombre_modelo)\n",
        "results = model.train(data=str(yaml_path), epochs=epocas, imgsz=imgsz, device=0)\n",
        "\n",
        "print(\"Analizando resultados...\")\n",
        "metrics_file = Path(\"runs/detect/train/results.csv\")\n",
        "if not metrics_file.exists():\n",
        "    raise FileNotFoundError(\"No se encontró el archivo de métricas después del entrenamiento.\")\n",
        "\n",
        "df = pd.read_csv(metrics_file)\n",
        "\n",
        "plt.figure(figsize=(14, 8))\n",
        "plt.subplot(2, 2, 1)\n",
        "plt.plot(df[\"epoch\"], df[\"train/box_loss\"], label=\"train/box_loss\")\n",
        "plt.plot(df[\"epoch\"], df[\"val/box_loss\"], label=\"val/box_loss\")\n",
        "plt.title(\"Box Loss\")\n",
        "plt.legend()\n",
        "\n",
        "plt.subplot(2, 2, 2)\n",
        "plt.plot(df[\"epoch\"], df[\"metrics/precision(B)\"], label=\"Precision\")\n",
        "plt.plot(df[\"epoch\"], df[\"metrics/recall(B)\"], label=\"Recall\")\n",
        "plt.title(\"Precisión y Recall\")\n",
        "plt.legend()\n",
        "\n",
        "\"\"\"\n",
        "plt.subplot(2, 2, 3)\n",
        "plt.plot(df[\"epoch\"], df[\"train/obj_loss\"], label=\"train/obj_loss\")\n",
        "plt.plot(df[\"epoch\"], df[\"val/obj_loss\"], label=\"val/obj_loss\")\n",
        "plt.title(\"Objectness Loss\")\n",
        "plt.legend()\n",
        "\n",
        "plt.subplot(2, 2, 4)\n",
        "plt.plot(df[\"epoch\"], df[\"metrics/mAP50(B)\"], label=\"mAP@0.5\")\n",
        "plt.title(\"mAP50\")\n",
        "plt.legend()\n",
        "\n",
        "\"\"\"\n",
        "\n",
        "\n",
        "plt.tight_layout()\n",
        "plt.show()\n",
        "\n",
        "\n",
        "print(\" Calculando métricas en conjunto de validación...\")\n",
        "\n",
        "val_images = list((ruta_dataset / \"images/val\").glob(\"*.jpg\"))\n",
        "if len(val_images) == 0:\n",
        "    print(\" No se encontraron imágenes en el conjunto de validación.\")\n",
        "else:\n",
        "    preds = model.predict(val_images, save=False, conf=0.25)\n",
        "\n",
        "    y_true = []\n",
        "    y_pred = []\n",
        "\n",
        "    for i, result in enumerate(preds):\n",
        "        # Etiquetas verdaderas: clase 0 por cada objeto anotado\n",
        "        label_path = ruta_dataset / \"labels\" / \"val\" / (val_images[i].stem + \".txt\")\n",
        "        if label_path.exists():\n",
        "            true_labels = [0] * len(label_path.read_text().splitlines())\n",
        "            y_true.extend(true_labels)\n",
        "        else:\n",
        "            continue\n",
        "        pred_labels = [int(box.cls.item()) for box in result.boxes]\n",
        "        y_pred.extend(pred_labels)\n",
        "\n",
        "    if len(y_true)>0 and len(y_pred)>0:\n",
        "        acc = accuracy_score(y_true, y_pred)\n",
        "        bacc = balanced_accuracy_score(y_true, y_pred)\n",
        "        cm = confusion_matrix(y_true, y_pred, labels=[0])\n",
        "\n",
        "        print(f\" Accuracy: {acc:.3f}\")\n",
        "        print(f\" Balanced Accuracy: {bacc:.3f}\")\n",
        "\n",
        "        disp = ConfusionMatrixDisplay(confusion_matrix=cm, display_labels=[\"bug\"])\n",
        "        disp.plot(cmap=\"Blues\")\n",
        "        plt.title(\"Matriz de Confusión (Validación)\")\n",
        "        plt.show()\n",
        "    else:\n",
        "        print(\" No se pudo calcular la matriz de confusión (sin predicciones o etiquetas válidas).\")\n"
      ]
    },
    {
      "cell_type": "code",
      "execution_count": null,
      "metadata": {
        "id": "yxFoXRJ43mPx"
      },
      "outputs": [],
      "source": [
        "#from google.colab import files\n",
        "\n",
        "# Entrena el modelo (ejemplo para YOLOv5)\n",
        "#!python train.py --img 640 --batch 16 --epochs 50 --data dataset.yaml --weights yolov5s.pt --cache\n",
        "\n",
        "# Guarda los pesos entrenados (generalmente en runs/train/exp/weights/best.pt)\n",
        "#!cp runs/train/exp/weights/best.pt /content/\n",
        "\n",
        "# Descarga el archivo a tu computadora (opcional)\n",
        "#files.download('/content/best.pt')"
      ]
    },
    {
      "cell_type": "code",
      "execution_count": null,
      "metadata": {
        "id": "_0ryDPTJ3m75"
      },
      "outputs": [],
      "source": [
        "from ultralytics import YOLO\n",
        "\n",
        "# Entrena el modelo\n",
        "model = YOLO('yolov8n.pt')  # Carga un modelo preentrenado\n",
        "results = model.train(data='dataset.yaml', epochs=50, imgsz=640)\n",
        "\n",
        "# Guarda los pesos (automáticamente se guarda en runs/detect/train/weights/best.pt)\n",
        "!cp runs/detect/train/weights/best.pt /content/\n",
        "\n",
        "# Descarga el archivo\n",
        "files.download('/content/best.pt')"
      ]
    },
    {
      "cell_type": "code",
      "execution_count": null,
      "metadata": {
        "id": "FWLEd5KU3p3I"
      },
      "outputs": [],
      "source": [
        "from google.colab import drive\n",
        "drive.mount('/content/drive')\n",
        "\n",
        "# Copia los pesos a tu Drive\n",
        "!cp /content/best.pt '/content/drive/MyDrive/BD-Ephemeroptera/YOLOLO/yolo_weights/'"
      ]
    },
    {
      "cell_type": "code",
      "execution_count": null,
      "metadata": {},
      "outputs": [
        {
          "name": "stdout",
          "output_type": "stream",
          "text": [
            "Collecting seaborn\n",
            "  Downloading seaborn-0.13.2-py3-none-any.whl.metadata (5.4 kB)\n",
            "Requirement already satisfied: numpy!=1.24.0,>=1.20 in /home/julio/anaconda3/envs/limpio39/lib/python3.9/site-packages (from seaborn) (1.23.0)\n",
            "Requirement already satisfied: pandas>=1.2 in /home/julio/anaconda3/envs/limpio39/lib/python3.9/site-packages (from seaborn) (2.2.3)\n",
            "Requirement already satisfied: matplotlib!=3.6.1,>=3.4 in /home/julio/anaconda3/envs/limpio39/lib/python3.9/site-packages (from seaborn) (3.9.4)\n",
            "Requirement already satisfied: contourpy>=1.0.1 in /home/julio/anaconda3/envs/limpio39/lib/python3.9/site-packages (from matplotlib!=3.6.1,>=3.4->seaborn) (1.3.0)\n",
            "Requirement already satisfied: cycler>=0.10 in /home/julio/anaconda3/envs/limpio39/lib/python3.9/site-packages (from matplotlib!=3.6.1,>=3.4->seaborn) (0.12.1)\n",
            "Requirement already satisfied: fonttools>=4.22.0 in /home/julio/anaconda3/envs/limpio39/lib/python3.9/site-packages (from matplotlib!=3.6.1,>=3.4->seaborn) (4.58.0)\n",
            "Requirement already satisfied: kiwisolver>=1.3.1 in /home/julio/anaconda3/envs/limpio39/lib/python3.9/site-packages (from matplotlib!=3.6.1,>=3.4->seaborn) (1.4.7)\n",
            "Requirement already satisfied: packaging>=20.0 in /home/julio/anaconda3/envs/limpio39/lib/python3.9/site-packages (from matplotlib!=3.6.1,>=3.4->seaborn) (25.0)\n",
            "Requirement already satisfied: pillow>=8 in /home/julio/anaconda3/envs/limpio39/lib/python3.9/site-packages (from matplotlib!=3.6.1,>=3.4->seaborn) (11.2.1)\n",
            "Requirement already satisfied: pyparsing>=2.3.1 in /home/julio/anaconda3/envs/limpio39/lib/python3.9/site-packages (from matplotlib!=3.6.1,>=3.4->seaborn) (3.2.3)\n",
            "Requirement already satisfied: python-dateutil>=2.7 in /home/julio/anaconda3/envs/limpio39/lib/python3.9/site-packages (from matplotlib!=3.6.1,>=3.4->seaborn) (2.9.0.post0)\n",
            "Requirement already satisfied: importlib-resources>=3.2.0 in /home/julio/anaconda3/envs/limpio39/lib/python3.9/site-packages (from matplotlib!=3.6.1,>=3.4->seaborn) (6.5.2)\n",
            "Requirement already satisfied: zipp>=3.1.0 in /home/julio/anaconda3/envs/limpio39/lib/python3.9/site-packages (from importlib-resources>=3.2.0->matplotlib!=3.6.1,>=3.4->seaborn) (3.21.0)\n",
            "Requirement already satisfied: pytz>=2020.1 in /home/julio/anaconda3/envs/limpio39/lib/python3.9/site-packages (from pandas>=1.2->seaborn) (2025.2)\n",
            "Requirement already satisfied: tzdata>=2022.7 in /home/julio/anaconda3/envs/limpio39/lib/python3.9/site-packages (from pandas>=1.2->seaborn) (2025.2)\n",
            "Requirement already satisfied: six>=1.5 in /home/julio/anaconda3/envs/limpio39/lib/python3.9/site-packages (from python-dateutil>=2.7->matplotlib!=3.6.1,>=3.4->seaborn) (1.17.0)\n",
            "Downloading seaborn-0.13.2-py3-none-any.whl (294 kB)\n",
            "Installing collected packages: seaborn\n",
            "Successfully installed seaborn-0.13.2\n"
          ]
        }
      ],
      "source": [
        "!pip install seaborn"
      ]
    },
    {
      "cell_type": "code",
      "execution_count": null,
      "metadata": {},
      "outputs": [],
      "source": []
    },
    {
      "cell_type": "code",
      "execution_count": null,
      "metadata": {
        "id": "_CjkPsLI3r_x"
      },
      "outputs": [
        {
          "name": "stdout",
          "output_type": "stream",
          "text": [
            "🔄 Ajustando etiquetas a clase única 'bug'\n",
            "Archivo YAML creado en: /home/julio/Documentos/TEST_TESIS/PracticasTesisKeras/CNN-VAE_Curso/data.yaml\n",
            "Entrenando YOLOv8...\n",
            "New https://pypi.org/project/ultralytics/8.3.153 available 😃 Update with 'pip install -U ultralytics'\n",
            "Ultralytics 8.3.148 🚀 Python-3.9.21 torch-2.7.0+cu126 CPU (AMD Ryzen 5 5600G with Radeon Graphics)\n",
            "\u001b[34m\u001b[1mengine/trainer: \u001b[0magnostic_nms=False, amp=True, augment=False, auto_augment=randaugment, batch=16, bgr=0.0, box=7.5, cache=False, cfg=None, classes=None, close_mosaic=10, cls=0.5, conf=None, copy_paste=0.0, copy_paste_mode=flip, cos_lr=False, cutmix=0.0, data=/home/julio/Documentos/TEST_TESIS/PracticasTesisKeras/CNN-VAE_Curso/data.yaml, degrees=0.0, deterministic=True, device=cpu, dfl=1.5, dnn=False, dropout=0.0, dynamic=False, embed=None, epochs=20, erasing=0.4, exist_ok=False, fliplr=0.5, flipud=0.0, format=torchscript, fraction=1.0, freeze=None, half=False, hsv_h=0.015, hsv_s=0.7, hsv_v=0.4, imgsz=640, int8=False, iou=0.7, keras=False, kobj=1.0, line_width=None, lr0=0.01, lrf=0.01, mask_ratio=4, max_det=300, mixup=0.0, mode=train, model=yolov8n.pt, momentum=0.937, mosaic=1.0, multi_scale=False, name=train2, nbs=64, nms=False, opset=None, optimize=False, optimizer=auto, overlap_mask=True, patience=100, perspective=0.0, plots=True, pose=12.0, pretrained=True, profile=False, project=None, rect=False, resume=False, retina_masks=False, save=True, save_conf=False, save_crop=False, save_dir=runs/detect/train2, save_frames=False, save_json=False, save_period=-1, save_txt=False, scale=0.5, seed=0, shear=0.0, show=False, show_boxes=True, show_conf=True, show_labels=True, simplify=True, single_cls=False, source=None, split=val, stream_buffer=False, task=detect, time=None, tracker=botsort.yaml, translate=0.1, val=True, verbose=True, vid_stride=1, visualize=False, warmup_bias_lr=0.1, warmup_epochs=3.0, warmup_momentum=0.8, weight_decay=0.0005, workers=8, workspace=None\n",
            "Overriding model.yaml nc=80 with nc=1\n",
            "\n",
            "                   from  n    params  module                                       arguments                     \n",
            "  0                  -1  1       464  ultralytics.nn.modules.conv.Conv             [3, 16, 3, 2]                 \n",
            "  1                  -1  1      4672  ultralytics.nn.modules.conv.Conv             [16, 32, 3, 2]                \n",
            "  2                  -1  1      7360  ultralytics.nn.modules.block.C2f             [32, 32, 1, True]             \n",
            "  3                  -1  1     18560  ultralytics.nn.modules.conv.Conv             [32, 64, 3, 2]                \n",
            "  4                  -1  2     49664  ultralytics.nn.modules.block.C2f             [64, 64, 2, True]             \n",
            "  5                  -1  1     73984  ultralytics.nn.modules.conv.Conv             [64, 128, 3, 2]               \n",
            "  6                  -1  2    197632  ultralytics.nn.modules.block.C2f             [128, 128, 2, True]           \n",
            "  7                  -1  1    295424  ultralytics.nn.modules.conv.Conv             [128, 256, 3, 2]              \n",
            "  8                  -1  1    460288  ultralytics.nn.modules.block.C2f             [256, 256, 1, True]           \n",
            "  9                  -1  1    164608  ultralytics.nn.modules.block.SPPF            [256, 256, 5]                 \n",
            " 10                  -1  1         0  torch.nn.modules.upsampling.Upsample         [None, 2, 'nearest']          \n",
            " 11             [-1, 6]  1         0  ultralytics.nn.modules.conv.Concat           [1]                           \n",
            " 12                  -1  1    148224  ultralytics.nn.modules.block.C2f             [384, 128, 1]                 \n",
            " 13                  -1  1         0  torch.nn.modules.upsampling.Upsample         [None, 2, 'nearest']          \n",
            " 14             [-1, 4]  1         0  ultralytics.nn.modules.conv.Concat           [1]                           \n",
            " 15                  -1  1     37248  ultralytics.nn.modules.block.C2f             [192, 64, 1]                  \n",
            " 16                  -1  1     36992  ultralytics.nn.modules.conv.Conv             [64, 64, 3, 2]                \n",
            " 17            [-1, 12]  1         0  ultralytics.nn.modules.conv.Concat           [1]                           \n",
            " 18                  -1  1    123648  ultralytics.nn.modules.block.C2f             [192, 128, 1]                 \n",
            " 19                  -1  1    147712  ultralytics.nn.modules.conv.Conv             [128, 128, 3, 2]              \n",
            " 20             [-1, 9]  1         0  ultralytics.nn.modules.conv.Concat           [1]                           \n",
            " 21                  -1  1    493056  ultralytics.nn.modules.block.C2f             [384, 256, 1]                 \n",
            " 22        [15, 18, 21]  1    751507  ultralytics.nn.modules.head.Detect           [1, [64, 128, 256]]           \n",
            "Model summary: 129 layers, 3,011,043 parameters, 3,011,027 gradients, 8.2 GFLOPs\n",
            "\n",
            "Transferred 319/355 items from pretrained weights\n",
            "Freezing layer 'model.22.dfl.conv.weight'\n",
            "\u001b[34m\u001b[1mtrain: \u001b[0mFast image access ✅ (ping: 0.0±0.0 ms, read: 269.5±68.5 MB/s, size: 377.4 KB)\n"
          ]
        },
        {
          "name": "stderr",
          "output_type": "stream",
          "text": [
            "\u001b[34m\u001b[1mtrain: \u001b[0mScanning /home/julio/Documentos/TEST_TESIS/PracticasTesisKeras/CNN-VAE_Curso/yololo/labels/train.cache... 128 images, 14 backgrounds, 0 corrupt: 100%|██████████| 128/128 [00:00<?, ?it/s]"
          ]
        },
        {
          "name": "stdout",
          "output_type": "stream",
          "text": [
            "\u001b[34m\u001b[1mtrain: \u001b[0m/home/julio/Documentos/TEST_TESIS/PracticasTesisKeras/CNN-VAE_Curso/yololo/images/train/frame_oscar_00000.jpg: corrupt JPEG restored and saved\n",
            "\u001b[34m\u001b[1mval: \u001b[0mFast image access ✅ (ping: 0.0±0.0 ms, read: 214.4±167.6 MB/s, size: 1212.8 KB)\n"
          ]
        },
        {
          "name": "stderr",
          "output_type": "stream",
          "text": [
            "\n",
            "/home/julio/anaconda3/envs/limpio39/lib/python3.9/site-packages/torch/utils/data/dataloader.py:665: UserWarning: 'pin_memory' argument is set as true but no accelerator is found, then device pinned memory won't be used.\n",
            "  warnings.warn(warn_msg)\n",
            "\u001b[34m\u001b[1mval: \u001b[0mScanning /home/julio/Documentos/TEST_TESIS/PracticasTesisKeras/CNN-VAE_Curso/yololo/labels/val.cache... 33 images, 6 backgrounds, 0 corrupt: 100%|██████████| 33/33 [00:00<?, ?it/s]"
          ]
        },
        {
          "name": "stdout",
          "output_type": "stream",
          "text": [
            "\u001b[34m\u001b[1mval: \u001b[0m/home/julio/Documentos/TEST_TESIS/PracticasTesisKeras/CNN-VAE_Curso/yololo/images/val/frame_oscar_00001.jpg: corrupt JPEG restored and saved\n",
            "\u001b[34m\u001b[1mval: \u001b[0m/home/julio/Documentos/TEST_TESIS/PracticasTesisKeras/CNN-VAE_Curso/yololo/images/val/frame_oscar_00002.jpg: corrupt JPEG restored and saved\n",
            "Plotting labels to runs/detect/train2/labels.jpg... \n"
          ]
        },
        {
          "name": "stderr",
          "output_type": "stream",
          "text": [
            "\n",
            "/home/julio/anaconda3/envs/limpio39/lib/python3.9/site-packages/torch/utils/data/dataloader.py:665: UserWarning: 'pin_memory' argument is set as true but no accelerator is found, then device pinned memory won't be used.\n",
            "  warnings.warn(warn_msg)\n"
          ]
        },
        {
          "name": "stdout",
          "output_type": "stream",
          "text": [
            "\u001b[34m\u001b[1moptimizer:\u001b[0m 'optimizer=auto' found, ignoring 'lr0=0.01' and 'momentum=0.937' and determining best 'optimizer', 'lr0' and 'momentum' automatically... \n",
            "\u001b[34m\u001b[1moptimizer:\u001b[0m AdamW(lr=0.002, momentum=0.9) with parameter groups 57 weight(decay=0.0), 64 weight(decay=0.0005), 63 bias(decay=0.0)\n",
            "Image sizes 640 train, 640 val\n",
            "Using 0 dataloader workers\n",
            "Logging results to \u001b[1mruns/detect/train2\u001b[0m\n",
            "Starting training for 20 epochs...\n",
            "\n",
            "      Epoch    GPU_mem   box_loss   cls_loss   dfl_loss  Instances       Size\n"
          ]
        },
        {
          "name": "stderr",
          "output_type": "stream",
          "text": [
            "       1/20         0G      1.452      2.957      1.302         87        640: 100%|██████████| 8/8 [00:30<00:00,  3.78s/it]\n",
            "                 Class     Images  Instances      Box(P          R      mAP50  mAP50-95): 100%|██████████| 2/2 [00:04<00:00,  2.15s/it]"
          ]
        },
        {
          "name": "stdout",
          "output_type": "stream",
          "text": [
            "                   all         33        128     0.0115      0.891      0.426       0.27\n"
          ]
        },
        {
          "name": "stderr",
          "output_type": "stream",
          "text": [
            "\n"
          ]
        },
        {
          "name": "stdout",
          "output_type": "stream",
          "text": [
            "\n",
            "      Epoch    GPU_mem   box_loss   cls_loss   dfl_loss  Instances       Size\n"
          ]
        },
        {
          "name": "stderr",
          "output_type": "stream",
          "text": [
            "       2/20         0G      1.358      1.887      1.186         83        640: 100%|██████████| 8/8 [00:25<00:00,  3.20s/it]\n",
            "                 Class     Images  Instances      Box(P          R      mAP50  mAP50-95): 100%|██████████| 2/2 [00:03<00:00,  1.77s/it]"
          ]
        },
        {
          "name": "stdout",
          "output_type": "stream",
          "text": [
            "                   all         33        128      0.012       0.93      0.516      0.278\n"
          ]
        },
        {
          "name": "stderr",
          "output_type": "stream",
          "text": [
            "\n"
          ]
        },
        {
          "name": "stdout",
          "output_type": "stream",
          "text": [
            "\n",
            "      Epoch    GPU_mem   box_loss   cls_loss   dfl_loss  Instances       Size\n"
          ]
        },
        {
          "name": "stderr",
          "output_type": "stream",
          "text": [
            "       3/20         0G      1.323       1.72      1.215         56        640: 100%|██████████| 8/8 [00:25<00:00,  3.20s/it]\n",
            "                 Class     Images  Instances      Box(P          R      mAP50  mAP50-95): 100%|██████████| 2/2 [00:03<00:00,  1.79s/it]"
          ]
        },
        {
          "name": "stdout",
          "output_type": "stream",
          "text": [
            "                   all         33        128     0.0119      0.922      0.526      0.315\n"
          ]
        },
        {
          "name": "stderr",
          "output_type": "stream",
          "text": [
            "\n"
          ]
        },
        {
          "name": "stdout",
          "output_type": "stream",
          "text": [
            "\n",
            "      Epoch    GPU_mem   box_loss   cls_loss   dfl_loss  Instances       Size\n"
          ]
        },
        {
          "name": "stderr",
          "output_type": "stream",
          "text": [
            "       4/20         0G      1.242       1.51      1.141         80        640: 100%|██████████| 8/8 [00:25<00:00,  3.16s/it]\n",
            "                 Class     Images  Instances      Box(P          R      mAP50  mAP50-95): 100%|██████████| 2/2 [00:03<00:00,  1.79s/it]"
          ]
        },
        {
          "name": "stdout",
          "output_type": "stream",
          "text": [
            "                   all         33        128      0.753        0.5      0.612      0.395\n"
          ]
        },
        {
          "name": "stderr",
          "output_type": "stream",
          "text": [
            "\n"
          ]
        },
        {
          "name": "stdout",
          "output_type": "stream",
          "text": [
            "\n",
            "      Epoch    GPU_mem   box_loss   cls_loss   dfl_loss  Instances       Size\n"
          ]
        },
        {
          "name": "stderr",
          "output_type": "stream",
          "text": [
            "       5/20         0G       1.25      1.456      1.164         57        640: 100%|██████████| 8/8 [00:24<00:00,  3.12s/it]\n",
            "                 Class     Images  Instances      Box(P          R      mAP50  mAP50-95): 100%|██████████| 2/2 [00:03<00:00,  1.74s/it]"
          ]
        },
        {
          "name": "stdout",
          "output_type": "stream",
          "text": [
            "                   all         33        128      0.471       0.68      0.586      0.378\n"
          ]
        },
        {
          "name": "stderr",
          "output_type": "stream",
          "text": [
            "\n"
          ]
        },
        {
          "name": "stdout",
          "output_type": "stream",
          "text": [
            "\n",
            "      Epoch    GPU_mem   box_loss   cls_loss   dfl_loss  Instances       Size\n"
          ]
        },
        {
          "name": "stderr",
          "output_type": "stream",
          "text": [
            "       6/20         0G       1.27      1.437      1.163         73        640: 100%|██████████| 8/8 [00:25<00:00,  3.18s/it]\n",
            "                 Class     Images  Instances      Box(P          R      mAP50  mAP50-95): 100%|██████████| 2/2 [00:03<00:00,  1.69s/it]"
          ]
        },
        {
          "name": "stdout",
          "output_type": "stream",
          "text": [
            "                   all         33        128      0.824      0.219      0.494      0.297\n"
          ]
        },
        {
          "name": "stderr",
          "output_type": "stream",
          "text": [
            "\n"
          ]
        },
        {
          "name": "stdout",
          "output_type": "stream",
          "text": [
            "\n",
            "      Epoch    GPU_mem   box_loss   cls_loss   dfl_loss  Instances       Size\n"
          ]
        },
        {
          "name": "stderr",
          "output_type": "stream",
          "text": [
            "       7/20         0G      1.305      1.374        1.2         75        640: 100%|██████████| 8/8 [00:25<00:00,  3.18s/it]\n",
            "                 Class     Images  Instances      Box(P          R      mAP50  mAP50-95): 100%|██████████| 2/2 [00:03<00:00,  1.76s/it]"
          ]
        },
        {
          "name": "stdout",
          "output_type": "stream",
          "text": [
            "                   all         33        128      0.773      0.305      0.494      0.285\n"
          ]
        },
        {
          "name": "stderr",
          "output_type": "stream",
          "text": [
            "\n"
          ]
        },
        {
          "name": "stdout",
          "output_type": "stream",
          "text": [
            "\n",
            "      Epoch    GPU_mem   box_loss   cls_loss   dfl_loss  Instances       Size\n"
          ]
        },
        {
          "name": "stderr",
          "output_type": "stream",
          "text": [
            "       8/20         0G      1.246      1.383      1.194         40        640: 100%|██████████| 8/8 [00:25<00:00,  3.18s/it]\n",
            "                 Class     Images  Instances      Box(P          R      mAP50  mAP50-95): 100%|██████████| 2/2 [00:03<00:00,  1.78s/it]"
          ]
        },
        {
          "name": "stdout",
          "output_type": "stream",
          "text": [
            "                   all         33        128      0.761      0.348       0.51      0.294\n"
          ]
        },
        {
          "name": "stderr",
          "output_type": "stream",
          "text": [
            "\n"
          ]
        },
        {
          "name": "stdout",
          "output_type": "stream",
          "text": [
            "\n",
            "      Epoch    GPU_mem   box_loss   cls_loss   dfl_loss  Instances       Size\n"
          ]
        },
        {
          "name": "stderr",
          "output_type": "stream",
          "text": [
            "       9/20         0G      1.289      1.394      1.191         56        640: 100%|██████████| 8/8 [00:25<00:00,  3.13s/it]\n",
            "                 Class     Images  Instances      Box(P          R      mAP50  mAP50-95): 100%|██████████| 2/2 [00:03<00:00,  1.80s/it]"
          ]
        },
        {
          "name": "stdout",
          "output_type": "stream",
          "text": [
            "                   all         33        128      0.735      0.367      0.501      0.289\n"
          ]
        },
        {
          "name": "stderr",
          "output_type": "stream",
          "text": [
            "\n"
          ]
        },
        {
          "name": "stdout",
          "output_type": "stream",
          "text": [
            "\n",
            "      Epoch    GPU_mem   box_loss   cls_loss   dfl_loss  Instances       Size\n"
          ]
        },
        {
          "name": "stderr",
          "output_type": "stream",
          "text": [
            "      10/20         0G      1.264      1.324      1.202         49        640: 100%|██████████| 8/8 [00:25<00:00,  3.17s/it]\n",
            "                 Class     Images  Instances      Box(P          R      mAP50  mAP50-95): 100%|██████████| 2/2 [00:03<00:00,  1.73s/it]"
          ]
        },
        {
          "name": "stdout",
          "output_type": "stream",
          "text": [
            "                   all         33        128      0.685      0.391      0.495      0.292\n"
          ]
        },
        {
          "name": "stderr",
          "output_type": "stream",
          "text": [
            "\n"
          ]
        },
        {
          "name": "stdout",
          "output_type": "stream",
          "text": [
            "Closing dataloader mosaic\n",
            "\n",
            "      Epoch    GPU_mem   box_loss   cls_loss   dfl_loss  Instances       Size\n"
          ]
        },
        {
          "name": "stderr",
          "output_type": "stream",
          "text": [
            "/home/julio/anaconda3/envs/limpio39/lib/python3.9/site-packages/torch/utils/data/dataloader.py:665: UserWarning: 'pin_memory' argument is set as true but no accelerator is found, then device pinned memory won't be used.\n",
            "  warnings.warn(warn_msg)\n",
            "      11/20         0G      1.173      1.456      1.128         32        640: 100%|██████████| 8/8 [00:24<00:00,  3.11s/it]\n",
            "                 Class     Images  Instances      Box(P          R      mAP50  mAP50-95): 100%|██████████| 2/2 [00:03<00:00,  1.75s/it]"
          ]
        },
        {
          "name": "stdout",
          "output_type": "stream",
          "text": [
            "                   all         33        128      0.739      0.331      0.445       0.26\n"
          ]
        },
        {
          "name": "stderr",
          "output_type": "stream",
          "text": [
            "\n"
          ]
        },
        {
          "name": "stdout",
          "output_type": "stream",
          "text": [
            "\n",
            "      Epoch    GPU_mem   box_loss   cls_loss   dfl_loss  Instances       Size\n"
          ]
        },
        {
          "name": "stderr",
          "output_type": "stream",
          "text": [
            "      12/20         0G      1.144      1.433      1.107         38        640: 100%|██████████| 8/8 [00:24<00:00,  3.12s/it]\n",
            "                 Class     Images  Instances      Box(P          R      mAP50  mAP50-95): 100%|██████████| 2/2 [00:03<00:00,  1.70s/it]"
          ]
        },
        {
          "name": "stdout",
          "output_type": "stream",
          "text": [
            "                   all         33        128      0.698      0.525      0.556      0.318\n"
          ]
        },
        {
          "name": "stderr",
          "output_type": "stream",
          "text": [
            "\n"
          ]
        },
        {
          "name": "stdout",
          "output_type": "stream",
          "text": [
            "\n",
            "      Epoch    GPU_mem   box_loss   cls_loss   dfl_loss  Instances       Size\n"
          ]
        },
        {
          "name": "stderr",
          "output_type": "stream",
          "text": [
            "      13/20         0G      1.117      1.348      1.137         43        640: 100%|██████████| 8/8 [00:24<00:00,  3.05s/it]\n",
            "                 Class     Images  Instances      Box(P          R      mAP50  mAP50-95): 100%|██████████| 2/2 [00:03<00:00,  1.70s/it]"
          ]
        },
        {
          "name": "stdout",
          "output_type": "stream",
          "text": [
            "                   all         33        128      0.662      0.458       0.54      0.325\n"
          ]
        },
        {
          "name": "stderr",
          "output_type": "stream",
          "text": [
            "\n"
          ]
        },
        {
          "name": "stdout",
          "output_type": "stream",
          "text": [
            "\n",
            "      Epoch    GPU_mem   box_loss   cls_loss   dfl_loss  Instances       Size\n"
          ]
        },
        {
          "name": "stderr",
          "output_type": "stream",
          "text": [
            "      14/20         0G      1.164      1.379      1.144         32        640: 100%|██████████| 8/8 [00:24<00:00,  3.05s/it]\n",
            "                 Class     Images  Instances      Box(P          R      mAP50  mAP50-95): 100%|██████████| 2/2 [00:03<00:00,  1.71s/it]"
          ]
        },
        {
          "name": "stdout",
          "output_type": "stream",
          "text": [
            "                   all         33        128      0.613      0.644      0.612      0.369\n"
          ]
        },
        {
          "name": "stderr",
          "output_type": "stream",
          "text": [
            "\n"
          ]
        },
        {
          "name": "stdout",
          "output_type": "stream",
          "text": [
            "\n",
            "      Epoch    GPU_mem   box_loss   cls_loss   dfl_loss  Instances       Size\n"
          ]
        },
        {
          "name": "stderr",
          "output_type": "stream",
          "text": [
            "      15/20         0G      1.077       1.35      1.108         23        640: 100%|██████████| 8/8 [00:24<00:00,  3.10s/it]\n",
            "                 Class     Images  Instances      Box(P          R      mAP50  mAP50-95): 100%|██████████| 2/2 [00:03<00:00,  1.71s/it]"
          ]
        },
        {
          "name": "stdout",
          "output_type": "stream",
          "text": [
            "                   all         33        128      0.631      0.711      0.661      0.402\n"
          ]
        },
        {
          "name": "stderr",
          "output_type": "stream",
          "text": [
            "\n"
          ]
        },
        {
          "name": "stdout",
          "output_type": "stream",
          "text": [
            "\n",
            "      Epoch    GPU_mem   box_loss   cls_loss   dfl_loss  Instances       Size\n"
          ]
        },
        {
          "name": "stderr",
          "output_type": "stream",
          "text": [
            "      16/20         0G      1.122      1.259      1.097         44        640: 100%|██████████| 8/8 [00:24<00:00,  3.10s/it]\n",
            "                 Class     Images  Instances      Box(P          R      mAP50  mAP50-95): 100%|██████████| 2/2 [00:03<00:00,  1.70s/it]"
          ]
        },
        {
          "name": "stdout",
          "output_type": "stream",
          "text": [
            "                   all         33        128      0.662      0.736       0.67      0.418\n"
          ]
        },
        {
          "name": "stderr",
          "output_type": "stream",
          "text": [
            "\n"
          ]
        },
        {
          "name": "stdout",
          "output_type": "stream",
          "text": [
            "\n",
            "      Epoch    GPU_mem   box_loss   cls_loss   dfl_loss  Instances       Size\n"
          ]
        },
        {
          "name": "stderr",
          "output_type": "stream",
          "text": [
            "      17/20         0G      1.092      1.263      1.095         30        640: 100%|██████████| 8/8 [00:24<00:00,  3.04s/it]\n",
            "                 Class     Images  Instances      Box(P          R      mAP50  mAP50-95): 100%|██████████| 2/2 [00:03<00:00,  1.69s/it]"
          ]
        },
        {
          "name": "stdout",
          "output_type": "stream",
          "text": [
            "                   all         33        128      0.731       0.75       0.75      0.468\n"
          ]
        },
        {
          "name": "stderr",
          "output_type": "stream",
          "text": [
            "\n"
          ]
        },
        {
          "name": "stdout",
          "output_type": "stream",
          "text": [
            "\n",
            "      Epoch    GPU_mem   box_loss   cls_loss   dfl_loss  Instances       Size\n"
          ]
        },
        {
          "name": "stderr",
          "output_type": "stream",
          "text": [
            "      18/20         0G      1.076      1.208      1.057         47        640: 100%|██████████| 8/8 [00:24<00:00,  3.09s/it]\n",
            "                 Class     Images  Instances      Box(P          R      mAP50  mAP50-95): 100%|██████████| 2/2 [00:03<00:00,  1.71s/it]"
          ]
        },
        {
          "name": "stdout",
          "output_type": "stream",
          "text": [
            "                   all         33        128      0.771      0.727       0.78      0.498\n"
          ]
        },
        {
          "name": "stderr",
          "output_type": "stream",
          "text": [
            "\n"
          ]
        },
        {
          "name": "stdout",
          "output_type": "stream",
          "text": [
            "\n",
            "      Epoch    GPU_mem   box_loss   cls_loss   dfl_loss  Instances       Size\n"
          ]
        },
        {
          "name": "stderr",
          "output_type": "stream",
          "text": [
            "      19/20         0G      1.024      1.153      1.061         34        640: 100%|██████████| 8/8 [00:24<00:00,  3.07s/it]\n",
            "                 Class     Images  Instances      Box(P          R      mAP50  mAP50-95): 100%|██████████| 2/2 [00:03<00:00,  1.73s/it]"
          ]
        },
        {
          "name": "stdout",
          "output_type": "stream",
          "text": [
            "                   all         33        128      0.737      0.812      0.812      0.515\n"
          ]
        },
        {
          "name": "stderr",
          "output_type": "stream",
          "text": [
            "\n"
          ]
        },
        {
          "name": "stdout",
          "output_type": "stream",
          "text": [
            "\n",
            "      Epoch    GPU_mem   box_loss   cls_loss   dfl_loss  Instances       Size\n"
          ]
        },
        {
          "name": "stderr",
          "output_type": "stream",
          "text": [
            "      20/20         0G      1.027      1.112      1.064         33        640: 100%|██████████| 8/8 [00:25<00:00,  3.13s/it]\n",
            "                 Class     Images  Instances      Box(P          R      mAP50  mAP50-95): 100%|██████████| 2/2 [00:03<00:00,  1.71s/it]"
          ]
        },
        {
          "name": "stdout",
          "output_type": "stream",
          "text": [
            "                   all         33        128      0.756      0.797      0.822      0.522\n"
          ]
        },
        {
          "name": "stderr",
          "output_type": "stream",
          "text": [
            "\n"
          ]
        },
        {
          "name": "stdout",
          "output_type": "stream",
          "text": [
            "\n",
            "20 epochs completed in 0.162 hours.\n",
            "Optimizer stripped from runs/detect/train2/weights/last.pt, 6.2MB\n",
            "Optimizer stripped from runs/detect/train2/weights/best.pt, 6.2MB\n",
            "\n",
            "Validating runs/detect/train2/weights/best.pt...\n",
            "Ultralytics 8.3.148 🚀 Python-3.9.21 torch-2.7.0+cu126 CPU (AMD Ryzen 5 5600G with Radeon Graphics)\n",
            "Model summary (fused): 72 layers, 3,005,843 parameters, 0 gradients, 8.1 GFLOPs\n"
          ]
        },
        {
          "name": "stderr",
          "output_type": "stream",
          "text": [
            "                 Class     Images  Instances      Box(P          R      mAP50  mAP50-95): 100%|██████████| 2/2 [00:02<00:00,  1.49s/it]\n"
          ]
        },
        {
          "name": "stdout",
          "output_type": "stream",
          "text": [
            "                   all         33        128      0.756      0.797      0.821      0.522\n",
            "Speed: 1.4ms preprocess, 56.7ms inference, 0.0ms loss, 2.3ms postprocess per image\n",
            "Results saved to \u001b[1mruns/detect/train2\u001b[0m\n",
            "Analizando resultados...\n"
          ]
        },
        {
          "ename": "KeyError",
          "evalue": "'train/obj_loss'",
          "output_type": "error",
          "traceback": [
            "\u001b[0;31m---------------------------------------------------------------------------\u001b[0m",
            "\u001b[0;31mKeyError\u001b[0m                                  Traceback (most recent call last)",
            "File \u001b[0;32m~/anaconda3/envs/limpio39/lib/python3.9/site-packages/pandas/core/indexes/base.py:3805\u001b[0m, in \u001b[0;36mIndex.get_loc\u001b[0;34m(self, key)\u001b[0m\n\u001b[1;32m   3804\u001b[0m \u001b[38;5;28;01mtry\u001b[39;00m:\n\u001b[0;32m-> 3805\u001b[0m     \u001b[38;5;28;01mreturn\u001b[39;00m \u001b[38;5;28;43mself\u001b[39;49m\u001b[38;5;241;43m.\u001b[39;49m\u001b[43m_engine\u001b[49m\u001b[38;5;241;43m.\u001b[39;49m\u001b[43mget_loc\u001b[49m\u001b[43m(\u001b[49m\u001b[43mcasted_key\u001b[49m\u001b[43m)\u001b[49m\n\u001b[1;32m   3806\u001b[0m \u001b[38;5;28;01mexcept\u001b[39;00m \u001b[38;5;167;01mKeyError\u001b[39;00m \u001b[38;5;28;01mas\u001b[39;00m err:\n",
            "File \u001b[0;32mindex.pyx:167\u001b[0m, in \u001b[0;36mpandas._libs.index.IndexEngine.get_loc\u001b[0;34m()\u001b[0m\n",
            "File \u001b[0;32mindex.pyx:196\u001b[0m, in \u001b[0;36mpandas._libs.index.IndexEngine.get_loc\u001b[0;34m()\u001b[0m\n",
            "File \u001b[0;32mpandas/_libs/hashtable_class_helper.pxi:7081\u001b[0m, in \u001b[0;36mpandas._libs.hashtable.PyObjectHashTable.get_item\u001b[0;34m()\u001b[0m\n",
            "File \u001b[0;32mpandas/_libs/hashtable_class_helper.pxi:7089\u001b[0m, in \u001b[0;36mpandas._libs.hashtable.PyObjectHashTable.get_item\u001b[0;34m()\u001b[0m\n",
            "\u001b[0;31mKeyError\u001b[0m: 'train/obj_loss'",
            "\nThe above exception was the direct cause of the following exception:\n",
            "\u001b[0;31mKeyError\u001b[0m                                  Traceback (most recent call last)",
            "Cell \u001b[0;32mIn[1], line 63\u001b[0m\n\u001b[1;32m     60\u001b[0m plt\u001b[38;5;241m.\u001b[39mlegend()\n\u001b[1;32m     62\u001b[0m plt\u001b[38;5;241m.\u001b[39msubplot(\u001b[38;5;241m2\u001b[39m, \u001b[38;5;241m2\u001b[39m, \u001b[38;5;241m3\u001b[39m)\n\u001b[0;32m---> 63\u001b[0m plt\u001b[38;5;241m.\u001b[39mplot(df[\u001b[38;5;124m\"\u001b[39m\u001b[38;5;124mepoch\u001b[39m\u001b[38;5;124m\"\u001b[39m], \u001b[43mdf\u001b[49m\u001b[43m[\u001b[49m\u001b[38;5;124;43m\"\u001b[39;49m\u001b[38;5;124;43mtrain/obj_loss\u001b[39;49m\u001b[38;5;124;43m\"\u001b[39;49m\u001b[43m]\u001b[49m, label\u001b[38;5;241m=\u001b[39m\u001b[38;5;124m\"\u001b[39m\u001b[38;5;124mtrain/obj_loss\u001b[39m\u001b[38;5;124m\"\u001b[39m)\n\u001b[1;32m     64\u001b[0m plt\u001b[38;5;241m.\u001b[39mplot(df[\u001b[38;5;124m\"\u001b[39m\u001b[38;5;124mepoch\u001b[39m\u001b[38;5;124m\"\u001b[39m], df[\u001b[38;5;124m\"\u001b[39m\u001b[38;5;124mval/obj_loss\u001b[39m\u001b[38;5;124m\"\u001b[39m], label\u001b[38;5;241m=\u001b[39m\u001b[38;5;124m\"\u001b[39m\u001b[38;5;124mval/obj_loss\u001b[39m\u001b[38;5;124m\"\u001b[39m)\n\u001b[1;32m     65\u001b[0m plt\u001b[38;5;241m.\u001b[39mtitle(\u001b[38;5;124m\"\u001b[39m\u001b[38;5;124mObjectness Loss\u001b[39m\u001b[38;5;124m\"\u001b[39m)\n",
            "File \u001b[0;32m~/anaconda3/envs/limpio39/lib/python3.9/site-packages/pandas/core/frame.py:4102\u001b[0m, in \u001b[0;36mDataFrame.__getitem__\u001b[0;34m(self, key)\u001b[0m\n\u001b[1;32m   4100\u001b[0m \u001b[38;5;28;01mif\u001b[39;00m \u001b[38;5;28mself\u001b[39m\u001b[38;5;241m.\u001b[39mcolumns\u001b[38;5;241m.\u001b[39mnlevels \u001b[38;5;241m>\u001b[39m \u001b[38;5;241m1\u001b[39m:\n\u001b[1;32m   4101\u001b[0m     \u001b[38;5;28;01mreturn\u001b[39;00m \u001b[38;5;28mself\u001b[39m\u001b[38;5;241m.\u001b[39m_getitem_multilevel(key)\n\u001b[0;32m-> 4102\u001b[0m indexer \u001b[38;5;241m=\u001b[39m \u001b[38;5;28;43mself\u001b[39;49m\u001b[38;5;241;43m.\u001b[39;49m\u001b[43mcolumns\u001b[49m\u001b[38;5;241;43m.\u001b[39;49m\u001b[43mget_loc\u001b[49m\u001b[43m(\u001b[49m\u001b[43mkey\u001b[49m\u001b[43m)\u001b[49m\n\u001b[1;32m   4103\u001b[0m \u001b[38;5;28;01mif\u001b[39;00m is_integer(indexer):\n\u001b[1;32m   4104\u001b[0m     indexer \u001b[38;5;241m=\u001b[39m [indexer]\n",
            "File \u001b[0;32m~/anaconda3/envs/limpio39/lib/python3.9/site-packages/pandas/core/indexes/base.py:3812\u001b[0m, in \u001b[0;36mIndex.get_loc\u001b[0;34m(self, key)\u001b[0m\n\u001b[1;32m   3807\u001b[0m     \u001b[38;5;28;01mif\u001b[39;00m \u001b[38;5;28misinstance\u001b[39m(casted_key, \u001b[38;5;28mslice\u001b[39m) \u001b[38;5;129;01mor\u001b[39;00m (\n\u001b[1;32m   3808\u001b[0m         \u001b[38;5;28misinstance\u001b[39m(casted_key, abc\u001b[38;5;241m.\u001b[39mIterable)\n\u001b[1;32m   3809\u001b[0m         \u001b[38;5;129;01mand\u001b[39;00m \u001b[38;5;28many\u001b[39m(\u001b[38;5;28misinstance\u001b[39m(x, \u001b[38;5;28mslice\u001b[39m) \u001b[38;5;28;01mfor\u001b[39;00m x \u001b[38;5;129;01min\u001b[39;00m casted_key)\n\u001b[1;32m   3810\u001b[0m     ):\n\u001b[1;32m   3811\u001b[0m         \u001b[38;5;28;01mraise\u001b[39;00m InvalidIndexError(key)\n\u001b[0;32m-> 3812\u001b[0m     \u001b[38;5;28;01mraise\u001b[39;00m \u001b[38;5;167;01mKeyError\u001b[39;00m(key) \u001b[38;5;28;01mfrom\u001b[39;00m\u001b[38;5;250m \u001b[39m\u001b[38;5;21;01merr\u001b[39;00m\n\u001b[1;32m   3813\u001b[0m \u001b[38;5;28;01mexcept\u001b[39;00m \u001b[38;5;167;01mTypeError\u001b[39;00m:\n\u001b[1;32m   3814\u001b[0m     \u001b[38;5;66;03m# If we have a listlike key, _check_indexing_error will raise\u001b[39;00m\n\u001b[1;32m   3815\u001b[0m     \u001b[38;5;66;03m#  InvalidIndexError. Otherwise we fall through and re-raise\u001b[39;00m\n\u001b[1;32m   3816\u001b[0m     \u001b[38;5;66;03m#  the TypeError.\u001b[39;00m\n\u001b[1;32m   3817\u001b[0m     \u001b[38;5;28mself\u001b[39m\u001b[38;5;241m.\u001b[39m_check_indexing_error(key)\n",
            "\u001b[0;31mKeyError\u001b[0m: 'train/obj_loss'"
          ]
        }
      ],
      "source": [
        "from pathlib import Path\n",
        "from ultralytics import YOLO\n",
        "import matplotlib.pyplot as plt\n",
        "import pandas as pd\n",
        "import seaborn as sns\n",
        "from sklearn.metrics import confusion_matrix, ConfusionMatrixDisplay, accuracy_score, balanced_accuracy_score\n",
        "import numpy as np\n",
        "\n",
        "# === CONFIGURACIÓN ===\n",
        "nombre_modelo = \"yolov8n.pt\"  # Cambia a 'yolov8s.pt' si quieres usar un modelo un poco más grande\n",
        "epocas = 20\n",
        "imgsz = 640\n",
        "ruta_dataset = Path(r'/home/julio/Documentos/TEST_TESIS/PracticasTesisKeras/CNN-VAE_Curso/yololo')#\"C:/Users/Julio/Documents/tesis/Tesis-BD/efemeropteros_yolo\")\n",
        "yaml_path = ruta_dataset.parent / \"data.yaml\"\n",
        "\n",
        "# === 1. Convertir todos los .txt a clase 0 ===\n",
        "print(\"🔄 Ajustando etiquetas a clase única 'bug'\")\n",
        "for subdir in ['train', 'val']:\n",
        "    for file in (ruta_dataset / 'labels' / subdir).rglob(\"*.txt\"):\n",
        "        lines = file.read_text().splitlines()\n",
        "        new_lines = ['0 ' + ' '.join(line.split()[1:]) for line in lines if line.strip()]\n",
        "        file.write_text('\\n'.join(new_lines))\n",
        "\n",
        "# === 2. Crear archivo YAML ===\n",
        "yaml_path.write_text(f\"\"\"path: {ruta_dataset.as_posix()}\n",
        "train: images/train\n",
        "val: images/val\n",
        "\n",
        "nc: 1\n",
        "names:\n",
        "  0: bug\n",
        "\"\"\")\n",
        "print(f\"Archivo YAML creado en: {yaml_path}\")\n",
        "\n",
        "# === 3. Entrenar YOLO ===\n",
        "print(\"Entrenando YOLOv8...\")\n",
        "model = YOLO(nombre_modelo)\n",
        "results = model.train(data=str(yaml_path), epochs=epocas, imgsz=imgsz, device='cpu')\n",
        "\n",
        "# === 4. Cargar resultados del entrenamiento ===\n",
        "print(\"Analizando resultados...\")\n",
        "metrics_file = Path(\"runs/detect/train/results.csv\")\n",
        "if not metrics_file.exists():\n",
        "    raise FileNotFoundError(\"No se encontró el archivo de métricas después del entrenamiento.\")\n",
        "\n",
        "df = pd.read_csv(metrics_file)\n",
        "\n",
        "# === 5. Graficar pérdidas y métricas ===\n",
        "plt.figure(figsize=(14, 8))\n",
        "plt.subplot(2, 2, 1)\n",
        "plt.plot(df[\"epoch\"], df[\"train/box_loss\"], label=\"train/box_loss\")\n",
        "plt.plot(df[\"epoch\"], df[\"val/box_loss\"], label=\"val/box_loss\")\n",
        "plt.title(\"Box Loss\")\n",
        "plt.legend()\n",
        "\n",
        "plt.subplot(2, 2, 2)\n",
        "plt.plot(df[\"epoch\"], df[\"metrics/precision(B)\"], label=\"Precision\")\n",
        "plt.plot(df[\"epoch\"], df[\"metrics/recall(B)\"], label=\"Recall\")\n",
        "plt.title(\"Precisión y Recall\")\n",
        "plt.legend()\n",
        "\n",
        "plt.subplot(2, 2, 3)\n",
        "plt.plot(df[\"epoch\"], df[\"train/obj_loss\"], label=\"train/obj_loss\")\n",
        "plt.plot(df[\"epoch\"], df[\"val/obj_loss\"], label=\"val/obj_loss\")\n",
        "plt.title(\"Objectness Loss\")\n",
        "plt.legend()\n",
        "\n",
        "plt.subplot(2, 2, 4)\n",
        "plt.plot(df[\"epoch\"], df[\"metrics/mAP50(B)\"], label=\"mAP@0.5\")\n",
        "plt.title(\"mAP50\")\n",
        "plt.legend()\n",
        "\n",
        "plt.tight_layout()\n",
        "plt.show()\n",
        "\n",
        "# === 6. Calcular matriz de confusión ===\n",
        "print(\"📌 Calculando métricas en conjunto de validación...\")\n",
        "\n",
        "# Ejecutar predicciones en el conjunto de validación\n",
        "val_images = list((ruta_dataset / \"images/val\").glob(\"*.jpg\"))\n",
        "if len(val_images) == 0:\n",
        "    print(\"⚠️ No se encontraron imágenes en el conjunto de validación.\")\n",
        "else:\n",
        "    preds = model.predict(val_images, save=False, conf=0.25)\n",
        "\n",
        "    y_true = []\n",
        "    y_pred = []\n",
        "\n",
        "    for i, result in enumerate(preds):\n",
        "        # Etiquetas verdaderas: clase 0 por cada objeto anotado\n",
        "        label_path = ruta_dataset / \"labels\" / \"val\" / (val_images[i].stem + \".txt\")\n",
        "        if label_path.exists():\n",
        "            true_labels = [0] * len(label_path.read_text().splitlines())\n",
        "            y_true.extend(true_labels)\n",
        "        else:\n",
        "            continue\n",
        "\n",
        "        # Etiquetas predichas\n",
        "        pred_labels = [int(box.cls.item()) for box in result.boxes]\n",
        "        y_pred.extend(pred_labels)\n",
        "\n",
        "    if y_true and y_pred:\n",
        "        acc = accuracy_score(y_true, y_pred)\n",
        "        bacc = balanced_accuracy_score(y_true, y_pred)\n",
        "        cm = confusion_matrix(y_true, y_pred, labels=[0])\n",
        "\n",
        "        print(f\"✅ Accuracy: {acc:.3f}\")\n",
        "        print(f\"✅ Balanced Accuracy: {bacc:.3f}\")\n",
        "\n",
        "        disp = ConfusionMatrixDisplay(confusion_matrix=cm, display_labels=[\"bug\"])\n",
        "        disp.plot(cmap=\"Blues\")\n",
        "        plt.title(\"Matriz de Confusión (Validación)\")\n",
        "        plt.show()\n",
        "    else:\n",
        "        print(\"⚠️ No se pudo calcular la matriz de confusión (sin predicciones o etiquetas válidas).\")\n",
        "\n"
      ]
    },
    {
      "cell_type": "code",
      "execution_count": 24,
      "metadata": {},
      "outputs": [
        {
          "data": {
            "text/html": [
              "<div>\n",
              "<style scoped>\n",
              "    .dataframe tbody tr th:only-of-type {\n",
              "        vertical-align: middle;\n",
              "    }\n",
              "\n",
              "    .dataframe tbody tr th {\n",
              "        vertical-align: top;\n",
              "    }\n",
              "\n",
              "    .dataframe thead th {\n",
              "        text-align: right;\n",
              "    }\n",
              "</style>\n",
              "<table border=\"1\" class=\"dataframe\">\n",
              "  <thead>\n",
              "    <tr style=\"text-align: right;\">\n",
              "      <th></th>\n",
              "      <th>epoch</th>\n",
              "      <th>time</th>\n",
              "      <th>train/box_loss</th>\n",
              "      <th>train/cls_loss</th>\n",
              "      <th>train/dfl_loss</th>\n",
              "      <th>metrics/precision(B)</th>\n",
              "      <th>metrics/recall(B)</th>\n",
              "      <th>metrics/mAP50(B)</th>\n",
              "      <th>metrics/mAP50-95(B)</th>\n",
              "      <th>val/box_loss</th>\n",
              "      <th>val/cls_loss</th>\n",
              "      <th>val/dfl_loss</th>\n",
              "      <th>lr/pg0</th>\n",
              "      <th>lr/pg1</th>\n",
              "      <th>lr/pg2</th>\n",
              "    </tr>\n",
              "  </thead>\n",
              "  <tbody>\n",
              "    <tr>\n",
              "      <th>0</th>\n",
              "      <td>1</td>\n",
              "      <td>35.5836</td>\n",
              "      <td>1.45238</td>\n",
              "      <td>2.95718</td>\n",
              "      <td>1.30175</td>\n",
              "      <td>0.01152</td>\n",
              "      <td>0.89062</td>\n",
              "      <td>0.42575</td>\n",
              "      <td>0.27010</td>\n",
              "      <td>1.19153</td>\n",
              "      <td>2.90410</td>\n",
              "      <td>1.14514</td>\n",
              "      <td>0.000140</td>\n",
              "      <td>0.000140</td>\n",
              "      <td>0.000140</td>\n",
              "    </tr>\n",
              "    <tr>\n",
              "      <th>1</th>\n",
              "      <td>2</td>\n",
              "      <td>65.9788</td>\n",
              "      <td>1.36068</td>\n",
              "      <td>1.89081</td>\n",
              "      <td>1.18620</td>\n",
              "      <td>0.01222</td>\n",
              "      <td>0.94531</td>\n",
              "      <td>0.47872</td>\n",
              "      <td>0.23394</td>\n",
              "      <td>1.41236</td>\n",
              "      <td>2.60911</td>\n",
              "      <td>1.13119</td>\n",
              "      <td>0.000299</td>\n",
              "      <td>0.000299</td>\n",
              "      <td>0.000299</td>\n",
              "    </tr>\n",
              "    <tr>\n",
              "      <th>2</th>\n",
              "      <td>3</td>\n",
              "      <td>95.7693</td>\n",
              "      <td>1.32536</td>\n",
              "      <td>1.71224</td>\n",
              "      <td>1.20863</td>\n",
              "      <td>0.01232</td>\n",
              "      <td>0.95312</td>\n",
              "      <td>0.57631</td>\n",
              "      <td>0.32883</td>\n",
              "      <td>1.37035</td>\n",
              "      <td>2.61411</td>\n",
              "      <td>1.13681</td>\n",
              "      <td>0.000456</td>\n",
              "      <td>0.000456</td>\n",
              "      <td>0.000456</td>\n",
              "    </tr>\n",
              "    <tr>\n",
              "      <th>3</th>\n",
              "      <td>4</td>\n",
              "      <td>125.3110</td>\n",
              "      <td>1.23824</td>\n",
              "      <td>1.49090</td>\n",
              "      <td>1.12550</td>\n",
              "      <td>0.82681</td>\n",
              "      <td>0.22384</td>\n",
              "      <td>0.61068</td>\n",
              "      <td>0.35334</td>\n",
              "      <td>1.44131</td>\n",
              "      <td>2.42963</td>\n",
              "      <td>1.17772</td>\n",
              "      <td>0.000613</td>\n",
              "      <td>0.000613</td>\n",
              "      <td>0.000613</td>\n",
              "    </tr>\n",
              "    <tr>\n",
              "      <th>4</th>\n",
              "      <td>5</td>\n",
              "      <td>155.0370</td>\n",
              "      <td>1.27523</td>\n",
              "      <td>1.45080</td>\n",
              "      <td>1.17144</td>\n",
              "      <td>0.78772</td>\n",
              "      <td>0.43488</td>\n",
              "      <td>0.55550</td>\n",
              "      <td>0.32174</td>\n",
              "      <td>1.41793</td>\n",
              "      <td>2.56151</td>\n",
              "      <td>1.20892</td>\n",
              "      <td>0.000768</td>\n",
              "      <td>0.000768</td>\n",
              "      <td>0.000768</td>\n",
              "    </tr>\n",
              "  </tbody>\n",
              "</table>\n",
              "</div>"
            ],
            "text/plain": [
              "   epoch      time  train/box_loss  train/cls_loss  train/dfl_loss  \\\n",
              "0      1   35.5836         1.45238         2.95718         1.30175   \n",
              "1      2   65.9788         1.36068         1.89081         1.18620   \n",
              "2      3   95.7693         1.32536         1.71224         1.20863   \n",
              "3      4  125.3110         1.23824         1.49090         1.12550   \n",
              "4      5  155.0370         1.27523         1.45080         1.17144   \n",
              "\n",
              "   metrics/precision(B)  metrics/recall(B)  metrics/mAP50(B)  \\\n",
              "0               0.01152            0.89062           0.42575   \n",
              "1               0.01222            0.94531           0.47872   \n",
              "2               0.01232            0.95312           0.57631   \n",
              "3               0.82681            0.22384           0.61068   \n",
              "4               0.78772            0.43488           0.55550   \n",
              "\n",
              "   metrics/mAP50-95(B)  val/box_loss  val/cls_loss  val/dfl_loss    lr/pg0  \\\n",
              "0              0.27010       1.19153       2.90410       1.14514  0.000140   \n",
              "1              0.23394       1.41236       2.60911       1.13119  0.000299   \n",
              "2              0.32883       1.37035       2.61411       1.13681  0.000456   \n",
              "3              0.35334       1.44131       2.42963       1.17772  0.000613   \n",
              "4              0.32174       1.41793       2.56151       1.20892  0.000768   \n",
              "\n",
              "     lr/pg1    lr/pg2  \n",
              "0  0.000140  0.000140  \n",
              "1  0.000299  0.000299  \n",
              "2  0.000456  0.000456  \n",
              "3  0.000613  0.000613  \n",
              "4  0.000768  0.000768  "
            ]
          },
          "execution_count": 24,
          "metadata": {},
          "output_type": "execute_result"
        }
      ],
      "source": [
        "\n",
        "\n",
        "# Carga el archivo CSV (ajusta la ruta si es necesario)\n",
        "csv_path = './runs/detect/train/results.csv'\n",
        "df = pd.read_csv(csv_path)\n",
        "df.head()\n",
        "# Asignar nombres de columnas según formato típico de YOLOv8\n",
        "\n"
      ]
    },
    {
      "cell_type": "code",
      "execution_count": 25,
      "metadata": {},
      "outputs": [
        {
          "name": "stdout",
          "output_type": "stream",
          "text": [
            "['epoch', 'time', 'train_box_loss', 'train_cls_loss', 'train_dfl_loss', 'precision', 'recall', 'mAP50', 'mAP50_95', 'val_box_loss', 'val_cls_loss', 'val_dfl_loss', 'lr0', 'lr1', 'lr2']\n"
          ]
        }
      ],
      "source": [
        "%matplotlib inline\n",
        "column_map = {\n",
        "    \"train/box_loss\": \"train_box_loss\",\n",
        "    \"train/cls_loss\": \"train_cls_loss\",\n",
        "    \"train/dfl_loss\": \"train_dfl_loss\",\n",
        "    \"val/box_loss\": \"val_box_loss\",\n",
        "    \"val/cls_loss\": \"val_cls_loss\",\n",
        "    \"val/dfl_loss\": \"val_dfl_loss\",\n",
        "    \"metrics/precision(B)\": \"precision\",\n",
        "    \"metrics/recall(B)\": \"recall\",\n",
        "    \"metrics/mAP50(B)\": \"mAP50\",\n",
        "    \"metrics/mAP50-95(B)\": \"mAP50_95\",\n",
        "    \"lr/pg0\": \"lr0\",\n",
        "    \"lr/pg1\": \"lr1\",\n",
        "    \"lr/pg2\": \"lr2\"\n",
        "}\n",
        "df = df.rename(columns=column_map)\n",
        "print(df.columns.tolist())\n"
      ]
    },
    {
      "cell_type": "code",
      "execution_count": 29,
      "metadata": {},
      "outputs": [
        {
          "data": {
            "image/png": "[encoded data removed]",
            "text/plain": [
              "<Figure size 1600x1000 with 4 Axes>"
            ]
          },
          "metadata": {},
          "output_type": "display_data"
        }
      ],
      "source": [
        "plt.figure(figsize=(16, 10))\n",
        "\n",
        "# Entrenamiento\n",
        "plt.subplot(2, 2, 1)\n",
        "plt.plot(df['epoch'], df['train_box_loss'], label='Box Loss')\n",
        "plt.plot(df['epoch'], df['train_cls_loss'], label='Class Loss')\n",
        "plt.plot(df['epoch'], df['train_dfl_loss'], label='DFL Loss')\n",
        "plt.title(\"Pérdidas de Entrenamiento\")\n",
        "plt.xlabel(\"Epoch\")\n",
        "plt.ylabel(\"Loss\")\n",
        "plt.grid(True)\n",
        "plt.legend()\n",
        "\n",
        "# Validación\n",
        "plt.subplot(2, 2, 2)\n",
        "plt.plot(df['epoch'], df['val_box_loss'], label='Box Loss')\n",
        "plt.plot(df['epoch'], df['val_cls_loss'], label='Class Loss')\n",
        "plt.plot(df['epoch'], df['val_dfl_loss'], label='DFL Loss')\n",
        "plt.title(\"Pérdidas de Validación\")\n",
        "plt.xlabel(\"Epoch\")\n",
        "plt.ylabel(\"Loss\")\n",
        "plt.grid(True)\n",
        "plt.legend()\n",
        "\n",
        "# Precisión y mAP\n",
        "plt.subplot(2, 2, 3)\n",
        "plt.plot(df['epoch'], df['precision'], label='Precision')\n",
        "plt.plot(df['epoch'], df['recall'], label='Recall')\n",
        "plt.plot(df['epoch'], df['mAP50'], label='mAP@0.5')\n",
        "plt.plot(df['epoch'], df['mAP50_95'], label='mAP@0.5:0.95')\n",
        "plt.title(\"Precisión y mAP\")\n",
        "plt.xlabel(\"Epoch\")\n",
        "plt.ylabel(\"Score\")\n",
        "plt.grid(True)\n",
        "plt.legend()\n",
        "\n",
        "# Learning Rate\n",
        "plt.subplot(2, 2, 4)\n",
        "plt.plot(df['epoch'], df['lr0'], label='pg0')\n",
        "plt.plot(df['epoch'], df['lr1'], label='pg1')\n",
        "plt.plot(df['epoch'], df['lr2'], label='pg2')\n",
        "plt.title(\"Tasa de Aprendizaje\")\n",
        "plt.xlabel(\"Epoch\")\n",
        "plt.ylabel(\"Learning Rate\")\n",
        "plt.grid(True)\n",
        "plt.legend()\n",
        "\n",
        "plt.tight_layout()\n",
        "plt.savefig(\"resumen_entrenamiento.png\", dpi=300)\n",
        "plt.show()"
      ]
    },
    {
      "cell_type": "code",
      "execution_count": null,
      "metadata": {},
      "outputs": [
        {
          "data": {
            "text/plain": [
              "<Figure size 640x480 with 0 Axes>"
            ]
          },
          "metadata": {},
          "output_type": "display_data"
        }
      ],
      "source": [
        "plt.savefig(\"EntrenamientoDeYololo20epochs.png\", dpi=300, bbox_inches='tight')"
      ]
    }
  ],
  "metadata": {
    "accelerator": "GPU",
    "colab": {
      "gpuType": "T4",
      "provenance": []
    },
    "kernelspec": {
      "display_name": "limpio39",
      "language": "python",
      "name": "python3"
    },
    "language_info": {
      "codemirror_mode": {
        "name": "ipython",
        "version": 3
      },
      "file_extension": ".py",
      "mimetype": "text/x-python",
      "name": "python",
      "nbconvert_exporter": "python",
      "pygments_lexer": "ipython3",
      "version": "3.9.21"
    }
  },
  "nbformat": 4,
  "nbformat_minor": 0
}
